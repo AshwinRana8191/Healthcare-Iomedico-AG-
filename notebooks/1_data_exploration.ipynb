{
 "cells": [
  {
   "cell_type": "markdown",
   "metadata": {},
   "source": [
    "# Oncology Clinical Trials Data Exploration\n",
    "\n",
    "This notebook explores the oncology clinical trials dataset using visualization functions from the `src/visualization` module.\n",
    "\n",
    "The analysis focuses on understanding:\n",
    "- Trial status distribution\n",
    "- Trial phases\n",
    "- Enrollment sizes\n",
    "- Trial durations\n",
    "- Completion rates by sponsor type\n",
    "- Relationships between enrollment and duration\n",
    "- Temporal trends in completion rates"
   ]
  },
  {
   "cell_type": "code",
   "execution_count": null,
   "metadata": {},
   "outputs": [],
   "source": [
    "import sys\n",
    "import pandas as pd\n",
    "import numpy as np\n",
    "import matplotlib.pyplot as plt\n",
    "import seaborn as sns\n",
    "from pathlib import Path\n",
    "\n",
    "# Add project root to path to import project modules\n",
    "project_root = Path().resolve().parents[0]\n",
    "sys.path.append(str(project_root))\n",
    "\n",
    "# Import visualization functions\n",
    "from src.visualization.visualize import (\n",
    "    set_plotting_style,\n",
    "    plot_trial_status_distribution,\n",
    "    plot_trial_phases,\n",
    "    plot_enrollment_distribution,\n",
    "    plot_duration_by_phase,\n",
    "    plot_completion_rate_by_sponsor,\n",
    "    plot_enrollment_vs_duration,\n",
    "    plot_completion_by_year,\n",
    "    plot_correlation_heatmap\n",
    ")\n",
    "\n",
    "# Define project directories\n",
    "PROJECT_DIR = project_root\n",
    "PROCESSED_DATA_DIR = PROJECT_DIR / 'data' / 'processed'\n",
    "\n",
    "# Set plotting style\n",
    "set_plotting_style()\n",
    "\n",
    "# Display plots inline\n",
    "%matplotlib inline"
   ]
  },
  {
   "cell_type": "markdown",
   "metadata": {},
   "source": [
    "## Loading the Processed Data\n",
    "\n",
    "First, we'll load the most recent processed oncology trials dataset."
   ]
  },
  {
   "cell_type": "code",
   "execution_count": null,
   "metadata": {},
   "outputs": [],
   "source": [
    "# Find the most recent processed data file\n",
    "csv_files = list(PROCESSED_DATA_DIR.glob(\"processed_oncology_trials_*.csv\"))\n",
    "\n",
    "if not csv_files:\n",
    "    raise FileNotFoundError(\"No processed data files found\")\n",
    "    \n",
    "# Sort by modification time (most recent first)\n",
    "csv_files.sort(key=lambda x: x.stat().st_mtime, reverse=True)\n",
    "latest_data_path = csv_files[0]\n",
    "\n",
    "print(f\"Loading data from {latest_data_path}\")\n",
    "df = pd.read_csv(latest_data_path)\n",
    "\n",
    "# Display basic information about the dataset\n",
    "print(f\"Dataset shape: {df.shape}\")\n",
    "df.head()"
   ]
  },
  {
   "cell_type": "markdown",
   "metadata": {},
   "source": [
    "## Data Overview\n",
    "\n",
    "Let's examine the basic statistics and data types of our dataset."
   ]
  },
  {
   "cell_type": "code",
   "execution_count": null,
   "metadata": {},
   "outputs": [],
   "source": [
    "# Display column information\n",
    "df.info()"
   ]
  },
  {
   "cell_type": "code",
   "execution_count": null,
   "metadata": {},
   "outputs": [],
   "source": [
    "# Display summary statistics\n",
    "df.describe(include='all').T"
   ]
  },
  {
   "cell_type": "markdown",
   "metadata": {},
   "source": [
    "## Trial Status Distribution\n",
    "\n",
    "Let's examine the distribution of trial statuses to understand the current state of oncology trials."
   ]
  },
  {
   "cell_type": "code",
   "execution_count": null,
   "metadata": {},
   "outputs": [],
   "source": [
    "# Plot trial status distribution\n",
    "plot_trial_status_distribution(df)"
   ]
  },
  {
   "cell_type": "markdown",
   "metadata": {},
   "source": [
    "## Trial Phases\n",
    "\n",
    "Now let's look at the distribution of trials across different clinical phases."
   ]
  },
  {
   "cell_type": "code",
   "execution_count": null,
   "metadata": {},
   "outputs": [],
   "source": [
    "# Plot trial phases distribution\n",
    "plot_trial_phases(df)"
   ]
  },
  {
   "cell_type": "markdown",
   "metadata": {},
   "source": [
    "## Enrollment Distribution\n",
    "\n",
    "Let's analyze the distribution of enrollment sizes across trials."
   ]
  },
  {
   "cell_type": "code",
   "execution_count": null,
   "metadata": {},
   "outputs": [],
   "source": [
    "# Plot enrollment distribution\n",
    "plot_enrollment_distribution(df)"
   ]
  },
  {
   "cell_type": "markdown",
   "metadata": {},
   "source": [
    "## Trial Duration by Phase\n",
    "\n",
    "Let's examine how trial duration varies across different clinical phases."
   ]
  },
  {
   "cell_type": "code",
   "execution_count": null,
   "metadata": {},
   "outputs": [],
   "source": [
    "# Plot trial duration by phase\n",
    "plot_duration_by_phase(df)"
   ]
  },
  {
   "cell_type": "markdown",
   "metadata": {},
   "source": [
    "## Completion Rate by Sponsor Type\n",
    "\n",
    "Let's analyze how trial completion rates vary by sponsor type."
   ]
  },
  {
   "cell_type": "code",
   "execution_count": null,
   "metadata": {},
   "outputs": [],
   "source": [
    "# Plot completion rate by sponsor type\n",
    "plot_completion_rate_by_sponsor(df)"
   ]
  },
  {
   "cell_type": "markdown",
   "metadata": {},
   "source": [
    "## Relationship Between Enrollment Size and Trial Duration\n",
    "\n",
    "Let's examine if there's a relationship between enrollment size and trial duration."
   ]
  },
  {
   "cell_type": "code",
   "execution_count": null,
   "metadata": {},
   "outputs": [],
   "source": [
    "# Plot enrollment vs duration\n",
    "plot_enrollment_vs_duration(df)"
   ]
  },
  {
   "cell_type": "markdown",
   "metadata": {},
   "source": [
    "## Temporal Trends in Completion Rates\n",
    "\n",
    "Let's analyze how trial completion rates have changed over time."
   ]
  },
  {
   "cell_type": "code",
   "execution_count": null,
   "metadata": {},
   "outputs": [],
   "source": [
    "# Plot completion rate by year\n",
    "plot_completion_by_year(df)"
   ]
  },
  {
   "cell_type": "markdown",
   "metadata": {},
   "source": [
    "## Feature Correlation Analysis\n",
    "\n",
    "Let's examine correlations between key features to identify potential relationships."
   ]
  },
  {
   "cell_type": "code",
   "execution_count": null,
   "metadata": {},
   "outputs": [],
   "source": [
    "# Define key features for correlation analysis\n",
    "key_features = [\n",
    "    'trial_duration_days', 'EnrollmentCount', 'completion_status',\n",
    "    'is_industry_sponsored', 'is_multi_country', 'has_us_sites',\n",
    "    'is_phase_2', 'is_phase_3', 'is_randomized', 'is_double_blind'\n",
    "]\n",
    "\n",
    "# Plot correlation heatmap\n",
    "plot_correlation_heatmap(df, key_features)"
   ]
  },
  {
   "cell_type": "markdown",
   "metadata": {},
   "source": [
    "## Summary of Findings\n",
    "\n",
    "Based on the exploratory data analysis, we can draw the following insights:\n",
    "\n",
    "1. **Trial Status Distribution**: [Add insights after running the notebook]\n",
    "2. **Trial Phases**: [Add insights after running the notebook]\n",
    "3. **Enrollment Sizes**: [Add insights after running the notebook]\n",
    "4. **Trial Duration by Phase**: [Add insights after running the notebook]\n",
    "5. **Completion Rate by Sponsor**: [Add insights after running the notebook]\n",
    "6. **Enrollment vs. Duration**: [Add insights after running the notebook]\n",
    "7. **Temporal Trends**: [Add insights after running the notebook]\n",
    "8. **Feature Correlations**: [Add insights after running the notebook]\n",
    "\n",
    "These insights will inform our feature engineering and modeling approach in the next notebooks."
   ]
  }
 ],
 "metadata": {
  "kernelspec": {
   "display_name": "Python 3",
   "language": "python",
   "name": "python3"
  },
  "language_info": {
   "codemirror_mode": {
    "name": "ipython",
    "version": 3
   },
   "file_extension": ".py",
   "mimetype": "text/x-python",
   "name": "python",
   "nbconvert_exporter": "python",
   "pygments_lexer": "ipython3",
   "version": "3.8.10"
  }
 },
 "nbformat": 4,
 "nbformat_minor": 4
}